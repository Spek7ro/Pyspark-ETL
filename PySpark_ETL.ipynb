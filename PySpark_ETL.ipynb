{
  "nbformat": 4,
  "nbformat_minor": 0,
  "metadata": {
    "colab": {
      "provenance": []
    },
    "kernelspec": {
      "name": "python3",
      "display_name": "Python 3"
    },
    "language_info": {
      "name": "python"
    }
  },
  "cells": [
    {
      "cell_type": "code",
      "execution_count": 46,
      "metadata": {
        "colab": {
          "base_uri": "https://localhost:8080/"
        },
        "id": "e8-YEyxc85_P",
        "outputId": "0cddbcb5-6f1d-4d2b-ac3a-72694a27034c"
      },
      "outputs": [
        {
          "output_type": "stream",
          "name": "stdout",
          "text": [
            "Requirement already satisfied: pyspark in /usr/local/lib/python3.11/dist-packages (3.5.1)\n",
            "Requirement already satisfied: py4j==0.10.9.7 in /usr/local/lib/python3.11/dist-packages (from pyspark) (0.10.9.7)\n"
          ]
        }
      ],
      "source": [
        "# Instalar pyspark\n",
        "!pip install pyspark"
      ]
    },
    {
      "cell_type": "markdown",
      "source": [
        "### **CREAR SESION DE SPARK**"
      ],
      "metadata": {
        "id": "Hk-ZNyVU-8Z5"
      }
    },
    {
      "cell_type": "code",
      "source": [
        "from pyspark.sql import SparkSession\n",
        "from pyspark import SparkContext\n",
        "\n",
        "SpSession = SparkSession \\\n",
        "          .builder \\\n",
        "          .appName(\"Demo Spark\") \\\n",
        "          .getOrCreate()"
      ],
      "metadata": {
        "id": "HplnlGZk-7mg"
      },
      "execution_count": 47,
      "outputs": []
    },
    {
      "cell_type": "code",
      "source": [
        "SpContext = SpSession.sparkContext\n",
        "print(SpContext)"
      ],
      "metadata": {
        "colab": {
          "base_uri": "https://localhost:8080/"
        },
        "id": "1aWWyL78AVH4",
        "outputId": "cb39d662-ed4a-4f23-a60d-a49cd2548a1a"
      },
      "execution_count": 48,
      "outputs": [
        {
          "output_type": "stream",
          "name": "stdout",
          "text": [
            "<SparkContext master=local[*] appName=Demo Spark>\n"
          ]
        }
      ]
    },
    {
      "cell_type": "markdown",
      "source": [
        "### **CARGA DE DATOS**"
      ],
      "metadata": {
        "id": "VGzE6WpnB2cb"
      }
    },
    {
      "cell_type": "code",
      "source": [
        "data = SpSession.read.csv('cars.csv', header=True, sep=\";\")\n",
        "data.show(10)"
      ],
      "metadata": {
        "id": "SYMf7ojpB8A0",
        "colab": {
          "base_uri": "https://localhost:8080/"
        },
        "outputId": "b4f69399-c80d-4682-921d-33de27589019"
      },
      "execution_count": 49,
      "outputs": [
        {
          "output_type": "stream",
          "name": "stdout",
          "text": [
            "+--------------------+----+---------+------------+----------+------+------------+-----+------+\n",
            "|                 Car| MPG|Cylinders|Displacement|Horsepower|Weight|Acceleration|Model|Origin|\n",
            "+--------------------+----+---------+------------+----------+------+------------+-----+------+\n",
            "|Chevrolet Chevell...|18.0|        8|       307.0|     130.0| 3504.|        12.0|   70|    US|\n",
            "|   Buick Skylark 320|15.0|        8|       350.0|     165.0| 3693.|        11.5|   70|    US|\n",
            "|  Plymouth Satellite|18.0|        8|       318.0|     150.0| 3436.|        11.0|   70|    US|\n",
            "|       AMC Rebel SST|16.0|        8|       304.0|     150.0| 3433.|        12.0|   70|    US|\n",
            "|         Ford Torino|17.0|        8|       302.0|     140.0| 3449.|        10.5|   70|    US|\n",
            "|    Ford Galaxie 500|15.0|        8|       429.0|     198.0| 4341.|        10.0|   70|    US|\n",
            "|    Chevrolet Impala|14.0|        8|       454.0|     220.0| 4354.|         9.0|   70|    US|\n",
            "|   Plymouth Fury iii|14.0|        8|       440.0|     215.0| 4312.|         8.5|   70|    US|\n",
            "|    Pontiac Catalina|14.0|        8|       455.0|     225.0| 4425.|        10.0|   70|    US|\n",
            "|  AMC Ambassador DPL|15.0|        8|       390.0|     190.0| 3850.|         8.5|   70|    US|\n",
            "+--------------------+----+---------+------------+----------+------+------------+-----+------+\n",
            "only showing top 10 rows\n",
            "\n"
          ]
        }
      ]
    },
    {
      "cell_type": "markdown",
      "source": [
        "### **Conociendo la data**"
      ],
      "metadata": {
        "id": "y9FD802Yu3A1"
      }
    },
    {
      "cell_type": "code",
      "source": [
        "data.printSchema()"
      ],
      "metadata": {
        "colab": {
          "base_uri": "https://localhost:8080/"
        },
        "id": "GA3F9cS-tumm",
        "outputId": "65538b2d-5cb6-4ad4-d0bd-af80f0f72cf5"
      },
      "execution_count": 50,
      "outputs": [
        {
          "output_type": "stream",
          "name": "stdout",
          "text": [
            "root\n",
            " |-- Car: string (nullable = true)\n",
            " |-- MPG: string (nullable = true)\n",
            " |-- Cylinders: string (nullable = true)\n",
            " |-- Displacement: string (nullable = true)\n",
            " |-- Horsepower: string (nullable = true)\n",
            " |-- Weight: string (nullable = true)\n",
            " |-- Acceleration: string (nullable = true)\n",
            " |-- Model: string (nullable = true)\n",
            " |-- Origin: string (nullable = true)\n",
            "\n"
          ]
        }
      ]
    },
    {
      "cell_type": "code",
      "source": [
        "data.columns"
      ],
      "metadata": {
        "colab": {
          "base_uri": "https://localhost:8080/"
        },
        "id": "pEZJu-aqvl6m",
        "outputId": "57769c3c-58a2-4ba6-ee65-9cfe75b63374"
      },
      "execution_count": 51,
      "outputs": [
        {
          "output_type": "execute_result",
          "data": {
            "text/plain": [
              "['Car',\n",
              " 'MPG',\n",
              " 'Cylinders',\n",
              " 'Displacement',\n",
              " 'Horsepower',\n",
              " 'Weight',\n",
              " 'Acceleration',\n",
              " 'Model',\n",
              " 'Origin']"
            ]
          },
          "metadata": {},
          "execution_count": 51
        }
      ]
    },
    {
      "cell_type": "code",
      "source": [
        "data.describe().show()"
      ],
      "metadata": {
        "colab": {
          "base_uri": "https://localhost:8080/"
        },
        "id": "uWCNVj2nvoEF",
        "outputId": "aa77c988-1dd1-4628-b0f4-879479aecc49"
      },
      "execution_count": 52,
      "outputs": [
        {
          "output_type": "stream",
          "name": "stdout",
          "text": [
            "+-------+--------------------+------------------+-----------------+------------------+-----------------+------------------+------------------+------------------+------+\n",
            "|summary|                 Car|               MPG|        Cylinders|      Displacement|       Horsepower|            Weight|      Acceleration|             Model|Origin|\n",
            "+-------+--------------------+------------------+-----------------+------------------+-----------------+------------------+------------------+------------------+------+\n",
            "|  count|                 406|               406|              406|               406|              406|               406|               406|               406|   406|\n",
            "|   mean|                NULL|23.051231527093602|5.475369458128079| 194.7795566502463|103.5295566502463|2979.4137931034484|15.519704433497521| 75.92118226600985|  NULL|\n",
            "| stddev|                NULL|   8.4017773522706|1.712159631548529|104.92245837948867|40.52065912106347| 847.0043282393513|2.8033588163425462|3.7487373454558743|  NULL|\n",
            "|    min|AMC Ambassador Br...|                 0|                3|             100.0|                0|             1613.|              10.0|                70|Europe|\n",
            "|    max|        Volvo Diesel|               9.0|                8|             98.00|            98.00|             5140.|              9.50|                82|    US|\n",
            "+-------+--------------------+------------------+-----------------+------------------+-----------------+------------------+------------------+------------------+------+\n",
            "\n"
          ]
        }
      ]
    },
    {
      "cell_type": "code",
      "source": [
        "data.dtypes"
      ],
      "metadata": {
        "colab": {
          "base_uri": "https://localhost:8080/"
        },
        "id": "FFF7M2tDvwJT",
        "outputId": "2c9efb4d-d14e-40ec-f3da-69da95b54c86"
      },
      "execution_count": 53,
      "outputs": [
        {
          "output_type": "execute_result",
          "data": {
            "text/plain": [
              "[('Car', 'string'),\n",
              " ('MPG', 'string'),\n",
              " ('Cylinders', 'string'),\n",
              " ('Displacement', 'string'),\n",
              " ('Horsepower', 'string'),\n",
              " ('Weight', 'string'),\n",
              " ('Acceleration', 'string'),\n",
              " ('Model', 'string'),\n",
              " ('Origin', 'string')]"
            ]
          },
          "metadata": {},
          "execution_count": 53
        }
      ]
    },
    {
      "cell_type": "markdown",
      "source": [
        "### **SELECCIÓN DE COLUMNAS**"
      ],
      "metadata": {
        "id": "9js9OH_9v8Oc"
      }
    },
    {
      "cell_type": "code",
      "source": [
        "from os import truncate\n",
        "#MÉTODO 1 nos muestra los primeros 20\n",
        "data.select(data.Car, data.Origin).show(truncate=False)"
      ],
      "metadata": {
        "colab": {
          "base_uri": "https://localhost:8080/"
        },
        "id": "5hTP8UHCv0oh",
        "outputId": "e38d7638-ff68-4fed-fa15-1d3ea64fbc8b"
      },
      "execution_count": 54,
      "outputs": [
        {
          "output_type": "stream",
          "name": "stdout",
          "text": [
            "+--------------------------------+------+\n",
            "|Car                             |Origin|\n",
            "+--------------------------------+------+\n",
            "|Chevrolet Chevelle Malibu       |US    |\n",
            "|Buick Skylark 320               |US    |\n",
            "|Plymouth Satellite              |US    |\n",
            "|AMC Rebel SST                   |US    |\n",
            "|Ford Torino                     |US    |\n",
            "|Ford Galaxie 500                |US    |\n",
            "|Chevrolet Impala                |US    |\n",
            "|Plymouth Fury iii               |US    |\n",
            "|Pontiac Catalina                |US    |\n",
            "|AMC Ambassador DPL              |US    |\n",
            "|Citroen DS-21 Pallas            |Europe|\n",
            "|Chevrolet Chevelle Concours (sw)|US    |\n",
            "|Ford Torino (sw)                |US    |\n",
            "|Plymouth Satellite (sw)         |US    |\n",
            "|AMC Rebel SST (sw)              |US    |\n",
            "|Dodge Challenger SE             |US    |\n",
            "|Plymouth 'Cuda 340              |US    |\n",
            "|Ford Mustang Boss 302           |US    |\n",
            "|Chevrolet Monte Carlo           |US    |\n",
            "|Buick Estate Wagon (sw)         |US    |\n",
            "+--------------------------------+------+\n",
            "only showing top 20 rows\n",
            "\n"
          ]
        }
      ]
    },
    {
      "cell_type": "code",
      "source": [
        "#MÉTODO 2\n",
        "data.select(data['car']).show(truncate=False)"
      ],
      "metadata": {
        "colab": {
          "base_uri": "https://localhost:8080/"
        },
        "id": "0dzeszIswq3i",
        "outputId": "0630474b-fab1-4c21-9c8c-df6c0833767d"
      },
      "execution_count": 55,
      "outputs": [
        {
          "output_type": "stream",
          "name": "stdout",
          "text": [
            "+--------------------------------+\n",
            "|car                             |\n",
            "+--------------------------------+\n",
            "|Chevrolet Chevelle Malibu       |\n",
            "|Buick Skylark 320               |\n",
            "|Plymouth Satellite              |\n",
            "|AMC Rebel SST                   |\n",
            "|Ford Torino                     |\n",
            "|Ford Galaxie 500                |\n",
            "|Chevrolet Impala                |\n",
            "|Plymouth Fury iii               |\n",
            "|Pontiac Catalina                |\n",
            "|AMC Ambassador DPL              |\n",
            "|Citroen DS-21 Pallas            |\n",
            "|Chevrolet Chevelle Concours (sw)|\n",
            "|Ford Torino (sw)                |\n",
            "|Plymouth Satellite (sw)         |\n",
            "|AMC Rebel SST (sw)              |\n",
            "|Dodge Challenger SE             |\n",
            "|Plymouth 'Cuda 340              |\n",
            "|Ford Mustang Boss 302           |\n",
            "|Chevrolet Monte Carlo           |\n",
            "|Buick Estate Wagon (sw)         |\n",
            "+--------------------------------+\n",
            "only showing top 20 rows\n",
            "\n"
          ]
        }
      ]
    },
    {
      "cell_type": "code",
      "source": [
        "#MÉTODO 3\n",
        "from pyspark.sql.functions import col\n",
        "data.select(col('car'), col('Model')).show(truncate=False)"
      ],
      "metadata": {
        "colab": {
          "base_uri": "https://localhost:8080/"
        },
        "id": "tMRRMS3sw3q4",
        "outputId": "5c7b7e3e-f8bb-4dbc-89f0-11392e435c61"
      },
      "execution_count": 56,
      "outputs": [
        {
          "output_type": "stream",
          "name": "stdout",
          "text": [
            "+--------------------------------+-----+\n",
            "|car                             |Model|\n",
            "+--------------------------------+-----+\n",
            "|Chevrolet Chevelle Malibu       |70   |\n",
            "|Buick Skylark 320               |70   |\n",
            "|Plymouth Satellite              |70   |\n",
            "|AMC Rebel SST                   |70   |\n",
            "|Ford Torino                     |70   |\n",
            "|Ford Galaxie 500                |70   |\n",
            "|Chevrolet Impala                |70   |\n",
            "|Plymouth Fury iii               |70   |\n",
            "|Pontiac Catalina                |70   |\n",
            "|AMC Ambassador DPL              |70   |\n",
            "|Citroen DS-21 Pallas            |70   |\n",
            "|Chevrolet Chevelle Concours (sw)|70   |\n",
            "|Ford Torino (sw)                |70   |\n",
            "|Plymouth Satellite (sw)         |70   |\n",
            "|AMC Rebel SST (sw)              |70   |\n",
            "|Dodge Challenger SE             |70   |\n",
            "|Plymouth 'Cuda 340              |70   |\n",
            "|Ford Mustang Boss 302           |70   |\n",
            "|Chevrolet Monte Carlo           |70   |\n",
            "|Buick Estate Wagon (sw)         |70   |\n",
            "+--------------------------------+-----+\n",
            "only showing top 20 rows\n",
            "\n"
          ]
        }
      ]
    },
    {
      "cell_type": "code",
      "source": [
        "#Método 1 de la selección multiple de columnas\n",
        "data.select(data.Car, data.Cylinders).show(truncate=False)"
      ],
      "metadata": {
        "colab": {
          "base_uri": "https://localhost:8080/"
        },
        "id": "H5hy3mxDxHkJ",
        "outputId": "254aa66b-7c4f-4234-b683-520d291cda5c"
      },
      "execution_count": 57,
      "outputs": [
        {
          "output_type": "stream",
          "name": "stdout",
          "text": [
            "+--------------------------------+---------+\n",
            "|Car                             |Cylinders|\n",
            "+--------------------------------+---------+\n",
            "|Chevrolet Chevelle Malibu       |8        |\n",
            "|Buick Skylark 320               |8        |\n",
            "|Plymouth Satellite              |8        |\n",
            "|AMC Rebel SST                   |8        |\n",
            "|Ford Torino                     |8        |\n",
            "|Ford Galaxie 500                |8        |\n",
            "|Chevrolet Impala                |8        |\n",
            "|Plymouth Fury iii               |8        |\n",
            "|Pontiac Catalina                |8        |\n",
            "|AMC Ambassador DPL              |8        |\n",
            "|Citroen DS-21 Pallas            |4        |\n",
            "|Chevrolet Chevelle Concours (sw)|8        |\n",
            "|Ford Torino (sw)                |8        |\n",
            "|Plymouth Satellite (sw)         |8        |\n",
            "|AMC Rebel SST (sw)              |8        |\n",
            "|Dodge Challenger SE             |8        |\n",
            "|Plymouth 'Cuda 340              |8        |\n",
            "|Ford Mustang Boss 302           |8        |\n",
            "|Chevrolet Monte Carlo           |8        |\n",
            "|Buick Estate Wagon (sw)         |8        |\n",
            "+--------------------------------+---------+\n",
            "only showing top 20 rows\n",
            "\n"
          ]
        }
      ]
    },
    {
      "cell_type": "code",
      "source": [
        "#Método 2 de la selección multiple de columnas\n",
        "data.select(data['car'], data['Horsepower']).show(truncate=False)"
      ],
      "metadata": {
        "colab": {
          "base_uri": "https://localhost:8080/"
        },
        "id": "iLcwecS4xNX7",
        "outputId": "00275a13-8fcb-4b8a-bb80-4af224440090"
      },
      "execution_count": 58,
      "outputs": [
        {
          "output_type": "stream",
          "name": "stdout",
          "text": [
            "+--------------------------------+----------+\n",
            "|car                             |Horsepower|\n",
            "+--------------------------------+----------+\n",
            "|Chevrolet Chevelle Malibu       |130.0     |\n",
            "|Buick Skylark 320               |165.0     |\n",
            "|Plymouth Satellite              |150.0     |\n",
            "|AMC Rebel SST                   |150.0     |\n",
            "|Ford Torino                     |140.0     |\n",
            "|Ford Galaxie 500                |198.0     |\n",
            "|Chevrolet Impala                |220.0     |\n",
            "|Plymouth Fury iii               |215.0     |\n",
            "|Pontiac Catalina                |225.0     |\n",
            "|AMC Ambassador DPL              |190.0     |\n",
            "|Citroen DS-21 Pallas            |115.0     |\n",
            "|Chevrolet Chevelle Concours (sw)|165.0     |\n",
            "|Ford Torino (sw)                |153.0     |\n",
            "|Plymouth Satellite (sw)         |175.0     |\n",
            "|AMC Rebel SST (sw)              |175.0     |\n",
            "|Dodge Challenger SE             |170.0     |\n",
            "|Plymouth 'Cuda 340              |160.0     |\n",
            "|Ford Mustang Boss 302           |140.0     |\n",
            "|Chevrolet Monte Carlo           |150.0     |\n",
            "|Buick Estate Wagon (sw)         |225.0     |\n",
            "+--------------------------------+----------+\n",
            "only showing top 20 rows\n",
            "\n"
          ]
        }
      ]
    },
    {
      "cell_type": "code",
      "source": [
        "#Método 3 de la selección multiple de columnas\n",
        "from pyspark.sql.functions import col\n",
        "data.select(col('CAR'), col('Horsepower')).show(truncate=False)"
      ],
      "metadata": {
        "colab": {
          "base_uri": "https://localhost:8080/"
        },
        "id": "kyi1KKP6xSfr",
        "outputId": "25288b38-d2c4-4147-bc12-82b06f968986"
      },
      "execution_count": 59,
      "outputs": [
        {
          "output_type": "stream",
          "name": "stdout",
          "text": [
            "+--------------------------------+----------+\n",
            "|CAR                             |Horsepower|\n",
            "+--------------------------------+----------+\n",
            "|Chevrolet Chevelle Malibu       |130.0     |\n",
            "|Buick Skylark 320               |165.0     |\n",
            "|Plymouth Satellite              |150.0     |\n",
            "|AMC Rebel SST                   |150.0     |\n",
            "|Ford Torino                     |140.0     |\n",
            "|Ford Galaxie 500                |198.0     |\n",
            "|Chevrolet Impala                |220.0     |\n",
            "|Plymouth Fury iii               |215.0     |\n",
            "|Pontiac Catalina                |225.0     |\n",
            "|AMC Ambassador DPL              |190.0     |\n",
            "|Citroen DS-21 Pallas            |115.0     |\n",
            "|Chevrolet Chevelle Concours (sw)|165.0     |\n",
            "|Ford Torino (sw)                |153.0     |\n",
            "|Plymouth Satellite (sw)         |175.0     |\n",
            "|AMC Rebel SST (sw)              |175.0     |\n",
            "|Dodge Challenger SE             |170.0     |\n",
            "|Plymouth 'Cuda 340              |160.0     |\n",
            "|Ford Mustang Boss 302           |140.0     |\n",
            "|Chevrolet Monte Carlo           |150.0     |\n",
            "|Buick Estate Wagon (sw)         |225.0     |\n",
            "+--------------------------------+----------+\n",
            "only showing top 20 rows\n",
            "\n"
          ]
        }
      ]
    },
    {
      "cell_type": "markdown",
      "source": [
        "### **AGREGAR NUEVAS COLUMNAS**"
      ],
      "metadata": {
        "id": "7dB0wNpHy3B0"
      }
    },
    {
      "cell_type": "code",
      "source": [
        "#CASO 1\n",
        "\n",
        "from pyspark.sql.functions import lit\n",
        "\n",
        "df = data.withColumn('First_Column',lit(1))\n",
        "df.show(5, truncate=False)"
      ],
      "metadata": {
        "colab": {
          "base_uri": "https://localhost:8080/"
        },
        "id": "SH6piq2dy4-p",
        "outputId": "ffa4ac6a-9433-4beb-ef38-3adc189f3815"
      },
      "execution_count": 60,
      "outputs": [
        {
          "output_type": "stream",
          "name": "stdout",
          "text": [
            "+-------------------------+----+---------+------------+----------+------+------------+-----+------+------------+\n",
            "|Car                      |MPG |Cylinders|Displacement|Horsepower|Weight|Acceleration|Model|Origin|First_Column|\n",
            "+-------------------------+----+---------+------------+----------+------+------------+-----+------+------------+\n",
            "|Chevrolet Chevelle Malibu|18.0|8        |307.0       |130.0     |3504. |12.0        |70   |US    |1           |\n",
            "|Buick Skylark 320        |15.0|8        |350.0       |165.0     |3693. |11.5        |70   |US    |1           |\n",
            "|Plymouth Satellite       |18.0|8        |318.0       |150.0     |3436. |11.0        |70   |US    |1           |\n",
            "|AMC Rebel SST            |16.0|8        |304.0       |150.0     |3433. |12.0        |70   |US    |1           |\n",
            "|Ford Torino              |17.0|8        |302.0       |140.0     |3449. |10.5        |70   |US    |1           |\n",
            "+-------------------------+----+---------+------------+----------+------+------------+-----+------+------------+\n",
            "only showing top 5 rows\n",
            "\n"
          ]
        }
      ]
    },
    {
      "cell_type": "code",
      "source": [
        "#CASO 2\n",
        "from pyspark.sql.functions import lit\n",
        "\n",
        "# multiplica Horsepower por Acceleration y agrega la nueva columna con la multiplicacion\n",
        "df = data.withColumn('Second_Column',data.Horsepower * data.Acceleration)\n",
        "df.show(5, truncate=False)\n",
        "\n",
        "# df = data.withColumn('Second_Column',lit(2)) \\\n",
        "#           .withColumn('third_column',lit('Third Column'))\n",
        "# df.show(5, truncate=False)"
      ],
      "metadata": {
        "colab": {
          "base_uri": "https://localhost:8080/"
        },
        "id": "q33iinzHzLo5",
        "outputId": "058b474a-ab2e-4ab2-9fef-8dff6425578d"
      },
      "execution_count": 61,
      "outputs": [
        {
          "output_type": "stream",
          "name": "stdout",
          "text": [
            "+-------------------------+----+---------+------------+----------+------+------------+-----+------+-------------+\n",
            "|Car                      |MPG |Cylinders|Displacement|Horsepower|Weight|Acceleration|Model|Origin|Second_Column|\n",
            "+-------------------------+----+---------+------------+----------+------+------------+-----+------+-------------+\n",
            "|Chevrolet Chevelle Malibu|18.0|8        |307.0       |130.0     |3504. |12.0        |70   |US    |1560.0       |\n",
            "|Buick Skylark 320        |15.0|8        |350.0       |165.0     |3693. |11.5        |70   |US    |1897.5       |\n",
            "|Plymouth Satellite       |18.0|8        |318.0       |150.0     |3436. |11.0        |70   |US    |1650.0       |\n",
            "|AMC Rebel SST            |16.0|8        |304.0       |150.0     |3433. |12.0        |70   |US    |1800.0       |\n",
            "|Ford Torino              |17.0|8        |302.0       |140.0     |3449. |10.5        |70   |US    |1470.0       |\n",
            "+-------------------------+----+---------+------------+----------+------+------------+-----+------+-------------+\n",
            "only showing top 5 rows\n",
            "\n"
          ]
        }
      ]
    },
    {
      "cell_type": "markdown",
      "source": [
        "### **AGRUPACIÓN**"
      ],
      "metadata": {
        "id": "EW9PdHtywBZY"
      }
    },
    {
      "cell_type": "code",
      "source": [
        "df.groupBy('Horsepower').count().show(5)"
      ],
      "metadata": {
        "colab": {
          "base_uri": "https://localhost:8080/"
        },
        "id": "6g8r8-B6v6cK",
        "outputId": "af55c129-fbc5-4ab4-e8d3-2ea7244344c9"
      },
      "execution_count": 62,
      "outputs": [
        {
          "output_type": "stream",
          "name": "stdout",
          "text": [
            "+----------+-----+\n",
            "|Horsepower|count|\n",
            "+----------+-----+\n",
            "|     102.0|    1|\n",
            "|     68.00|    6|\n",
            "|     116.0|    1|\n",
            "|     145.0|    7|\n",
            "|     90.00|   20|\n",
            "+----------+-----+\n",
            "only showing top 5 rows\n",
            "\n"
          ]
        }
      ]
    },
    {
      "cell_type": "code",
      "source": [
        "df.groupBy('Origin','Model').count().show(20)"
      ],
      "metadata": {
        "colab": {
          "base_uri": "https://localhost:8080/"
        },
        "id": "REciKq4hwSiu",
        "outputId": "c25ec0b8-68d2-47c3-f273-d38d627a7a43"
      },
      "execution_count": 63,
      "outputs": [
        {
          "output_type": "stream",
          "name": "stdout",
          "text": [
            "+------+-----+-----+\n",
            "|Origin|Model|count|\n",
            "+------+-----+-----+\n",
            "| Japan|   76|    4|\n",
            "|    US|   81|   13|\n",
            "|    US|   80|    7|\n",
            "|    US|   76|   22|\n",
            "| Japan|   70|    2|\n",
            "|    US|   78|   22|\n",
            "|Europe|   76|    8|\n",
            "|    US|   70|   27|\n",
            "| Japan|   75|    4|\n",
            "|Europe|   80|    9|\n",
            "| Japan|   77|    6|\n",
            "|Europe|   72|    5|\n",
            "|    US|   75|   20|\n",
            "|    US|   79|   23|\n",
            "|    US|   82|   20|\n",
            "|Europe|   75|    6|\n",
            "| Japan|   78|    8|\n",
            "|    US|   71|   20|\n",
            "| Japan|   82|    9|\n",
            "| Japan|   80|   13|\n",
            "+------+-----+-----+\n",
            "only showing top 20 rows\n",
            "\n"
          ]
        }
      ]
    },
    {
      "cell_type": "markdown",
      "source": [
        "### **Eliminar Columnas**"
      ],
      "metadata": {
        "id": "y9ATLcWUwrcW"
      }
    },
    {
      "cell_type": "code",
      "source": [
        "df = df.drop('Second_Column','third_column')\n",
        "df.show(5)"
      ],
      "metadata": {
        "colab": {
          "base_uri": "https://localhost:8080/"
        },
        "id": "8VgrepAUwa6y",
        "outputId": "70247014-6e63-43eb-e0cc-7d1d7c6f3144"
      },
      "execution_count": 64,
      "outputs": [
        {
          "output_type": "stream",
          "name": "stdout",
          "text": [
            "+--------------------+----+---------+------------+----------+------+------------+-----+------+\n",
            "|                 Car| MPG|Cylinders|Displacement|Horsepower|Weight|Acceleration|Model|Origin|\n",
            "+--------------------+----+---------+------------+----------+------+------------+-----+------+\n",
            "|Chevrolet Chevell...|18.0|        8|       307.0|     130.0| 3504.|        12.0|   70|    US|\n",
            "|   Buick Skylark 320|15.0|        8|       350.0|     165.0| 3693.|        11.5|   70|    US|\n",
            "|  Plymouth Satellite|18.0|        8|       318.0|     150.0| 3436.|        11.0|   70|    US|\n",
            "|       AMC Rebel SST|16.0|        8|       304.0|     150.0| 3433.|        12.0|   70|    US|\n",
            "|         Ford Torino|17.0|        8|       302.0|     140.0| 3449.|        10.5|   70|    US|\n",
            "+--------------------+----+---------+------------+----------+------+------------+-----+------+\n",
            "only showing top 5 rows\n",
            "\n"
          ]
        }
      ]
    },
    {
      "cell_type": "code",
      "source": [
        "df"
      ],
      "metadata": {
        "colab": {
          "base_uri": "https://localhost:8080/"
        },
        "id": "BpIOy6uXw1CL",
        "outputId": "7479ab06-3b51-41b6-85d9-510536ba3f9e"
      },
      "execution_count": 65,
      "outputs": [
        {
          "output_type": "execute_result",
          "data": {
            "text/plain": [
              "DataFrame[Car: string, MPG: string, Cylinders: string, Displacement: string, Horsepower: string, Weight: string, Acceleration: string, Model: string, Origin: string]"
            ]
          },
          "metadata": {},
          "execution_count": 65
        }
      ]
    },
    {
      "cell_type": "markdown",
      "source": [
        "### **Filtrar Datos**"
      ],
      "metadata": {
        "id": "Gx_LIfqnx4BV"
      }
    },
    {
      "cell_type": "code",
      "source": [
        "total_count = df.count()\n",
        "print(\"Total de registros:\", total_count)\n",
        "\n",
        "cars_usa = df.filter(col('Origin')==\"US\").count()\n",
        "print(\"Total de registros en US:\", cars_usa)\n",
        "\n",
        "cars_europe = df.filter(col('Origin')==\"Europe\").count()\n",
        "print(\"Total de registros en Europe:\", cars_europe)\n",
        "\n",
        "cars_japan = df.filter(col('Origin')==\"Japan\").count()\n",
        "print(\"Total de registros en Japan:\", cars_japan)\n",
        "\n",
        "df.filter(col('Origin')==\"US\").show(5, truncate=False)\n",
        "df.filter(col('Origin')==\"Europe\").show(5, truncate=False)\n",
        "df.filter(col('Origin')==\"Japan\").show(5, truncate=False)"
      ],
      "metadata": {
        "colab": {
          "base_uri": "https://localhost:8080/"
        },
        "id": "HYsfsUGDw3qN",
        "outputId": "e61785b8-787a-4675-d4a8-2cc03dba1bc8"
      },
      "execution_count": 66,
      "outputs": [
        {
          "output_type": "stream",
          "name": "stdout",
          "text": [
            "Total de registros: 406\n",
            "Total de registros en US: 254\n",
            "Total de registros en Europe: 73\n",
            "Total de registros en Japan: 79\n",
            "+-------------------------+----+---------+------------+----------+------+------------+-----+------+\n",
            "|Car                      |MPG |Cylinders|Displacement|Horsepower|Weight|Acceleration|Model|Origin|\n",
            "+-------------------------+----+---------+------------+----------+------+------------+-----+------+\n",
            "|Chevrolet Chevelle Malibu|18.0|8        |307.0       |130.0     |3504. |12.0        |70   |US    |\n",
            "|Buick Skylark 320        |15.0|8        |350.0       |165.0     |3693. |11.5        |70   |US    |\n",
            "|Plymouth Satellite       |18.0|8        |318.0       |150.0     |3436. |11.0        |70   |US    |\n",
            "|AMC Rebel SST            |16.0|8        |304.0       |150.0     |3433. |12.0        |70   |US    |\n",
            "|Ford Torino              |17.0|8        |302.0       |140.0     |3449. |10.5        |70   |US    |\n",
            "+-------------------------+----+---------+------------+----------+------+------------+-----+------+\n",
            "only showing top 5 rows\n",
            "\n",
            "+----------------------------+----+---------+------------+----------+------+------------+-----+------+\n",
            "|Car                         |MPG |Cylinders|Displacement|Horsepower|Weight|Acceleration|Model|Origin|\n",
            "+----------------------------+----+---------+------------+----------+------+------------+-----+------+\n",
            "|Citroen DS-21 Pallas        |0   |4        |133.0       |115.0     |3090. |17.5        |70   |Europe|\n",
            "|Volkswagen 1131 Deluxe Sedan|26.0|4        |97.00       |46.00     |1835. |20.5        |70   |Europe|\n",
            "|Peugeot 504                 |25.0|4        |110.0       |87.00     |2672. |17.5        |70   |Europe|\n",
            "|Audi 100 LS                 |24.0|4        |107.0       |90.00     |2430. |14.5        |70   |Europe|\n",
            "|Saab 99e                    |25.0|4        |104.0       |95.00     |2375. |17.5        |70   |Europe|\n",
            "+----------------------------+----+---------+------------+----------+------+------------+-----+------+\n",
            "only showing top 5 rows\n",
            "\n",
            "+----------------------+----+---------+------------+----------+------+------------+-----+------+\n",
            "|Car                   |MPG |Cylinders|Displacement|Horsepower|Weight|Acceleration|Model|Origin|\n",
            "+----------------------+----+---------+------------+----------+------+------------+-----+------+\n",
            "|Toyota Corolla Mark ii|24.0|4        |113.0       |95.00     |2372. |15.0        |70   |Japan |\n",
            "|Datsun PL510          |27.0|4        |97.00       |88.00     |2130. |14.5        |70   |Japan |\n",
            "|Datsun PL510          |27.0|4        |97.00       |88.00     |2130. |14.5        |71   |Japan |\n",
            "|Toyota Corolla        |25.0|4        |113.0       |95.00     |2228. |14.0        |71   |Japan |\n",
            "|Toyota Corolla 1200   |31.0|4        |71.00       |65.00     |1773. |19.0        |71   |Japan |\n",
            "+----------------------+----+---------+------------+----------+------+------------+-----+------+\n",
            "only showing top 5 rows\n",
            "\n"
          ]
        }
      ]
    },
    {
      "cell_type": "code",
      "source": [
        "total_count = df.count()\n",
        "print(\"Total de registros:\", total_count)\n",
        "usa= df.filter((col('Origin')==\"US\") & (col('Horsepower')==\"175.0\")).count()\n",
        "print(\"Total de registros:\", usa)\n",
        "\n",
        "df.filter((col('Origin')==\"US\") & (col('Horsepower')==\"175.0\")).show(truncate=False)"
      ],
      "metadata": {
        "colab": {
          "base_uri": "https://localhost:8080/"
        },
        "id": "2aRF9LXRyOHg",
        "outputId": "95f914a2-0139-42b4-f9f7-fd44a9eb5e73"
      },
      "execution_count": 67,
      "outputs": [
        {
          "output_type": "stream",
          "name": "stdout",
          "text": [
            "Total de registros: 406\n",
            "Total de registros: 7\n",
            "+-------------------------+----+---------+------------+----------+------+------------+-----+------+\n",
            "|Car                      |MPG |Cylinders|Displacement|Horsepower|Weight|Acceleration|Model|Origin|\n",
            "+-------------------------+----+---------+------------+----------+------+------------+-----+------+\n",
            "|Plymouth Satellite (sw)  |0   |8        |383.0       |175.0     |4166. |10.5        |70   |US    |\n",
            "|AMC Rebel SST (sw)       |0   |8        |360.0       |175.0     |3850. |11.0        |70   |US    |\n",
            "|Pontiac Catalina Brougham|14.0|8        |400.0       |175.0     |4464. |11.5        |71   |US    |\n",
            "|Pontiac Safari (sw)      |13.0|8        |400.0       |175.0     |5140. |12.0        |71   |US    |\n",
            "|Pontiac Catalina         |14.0|8        |400.0       |175.0     |4385. |12.0        |72   |US    |\n",
            "|Buick Century 350        |13.0|8        |350.0       |175.0     |4100. |13.0        |73   |US    |\n",
            "|AMC Ambassador Brougham  |13.0|8        |360.0       |175.0     |3821. |11.0        |73   |US    |\n",
            "+-------------------------+----+---------+------------+----------+------+------------+-----+------+\n",
            "\n"
          ]
        }
      ]
    },
    {
      "cell_type": "markdown",
      "source": [
        "### **ORDENAR FILAS**"
      ],
      "metadata": {
        "id": "uu71KXe6yIEd"
      }
    },
    {
      "cell_type": "code",
      "source": [
        "df.orderBy('Cylinders').show(truncate=False)"
      ],
      "metadata": {
        "colab": {
          "base_uri": "https://localhost:8080/"
        },
        "id": "xP7qgzhgyqXn",
        "outputId": "c5917045-f745-4aca-b664-d5fed46e6c01"
      },
      "execution_count": 68,
      "outputs": [
        {
          "output_type": "stream",
          "name": "stdout",
          "text": [
            "+----------------------------+----+---------+------------+----------+------+------------+-----+------+\n",
            "|Car                         |MPG |Cylinders|Displacement|Horsepower|Weight|Acceleration|Model|Origin|\n",
            "+----------------------------+----+---------+------------+----------+------+------------+-----+------+\n",
            "|Mazda RX2 Coupe             |19.0|3        |70.00       |97.00     |2330. |13.5        |72   |Japan |\n",
            "|Mazda RX3                   |18.0|3        |70.00       |90.00     |2124. |13.5        |73   |Japan |\n",
            "|Mazda RX-4                  |21.5|3        |80.00       |110.0     |2720. |13.5        |77   |Japan |\n",
            "|Mazda RX-7 GS               |23.7|3        |70.00       |100.0     |2420. |12.5        |80   |Japan |\n",
            "|Datsun 510 (sw)             |28.0|4        |97.00       |92.00     |2288. |17.0        |72   |Japan |\n",
            "|Mercury Capri 2000          |23.0|4        |122.0       |86.00     |2220. |14.0        |71   |US    |\n",
            "|Chevrolet Vega (sw)         |22.0|4        |140.0       |72.00     |2408. |19.0        |71   |US    |\n",
            "|Opel 1900                   |28.0|4        |116.0       |90.00     |2123. |14.0        |71   |Europe|\n",
            "|Volkswagen 1131 Deluxe Sedan|26.0|4        |97.00       |46.00     |1835. |20.5        |70   |Europe|\n",
            "|Peugeot 304                 |30.0|4        |79.00       |70.00     |2074. |19.5        |71   |Europe|\n",
            "|Audi 100 LS                 |24.0|4        |107.0       |90.00     |2430. |14.5        |70   |Europe|\n",
            "|Fiat 124B                   |30.0|4        |88.00       |76.00     |2065. |14.5        |71   |Europe|\n",
            "|BMW 2002                    |26.0|4        |121.0       |113.0     |2234. |12.5        |70   |Europe|\n",
            "|Toyota Corolla 1200         |31.0|4        |71.00       |65.00     |1773. |19.0        |71   |Japan |\n",
            "|Chevrolet Vega 2300         |28.0|4        |140.0       |90.00     |2264. |15.5        |71   |US    |\n",
            "|Datsun 1200                 |35.0|4        |72.00       |69.00     |1613. |18.0        |71   |Japan |\n",
            "|Ford Pinto                  |25.0|4        |98.00       |0         |2046. |19.0        |71   |US    |\n",
            "|Volkswagen Model 111        |27.0|4        |97.00       |60.00     |1834. |19.0        |71   |Europe|\n",
            "|Dodge Colt Hardtop          |25.0|4        |97.50       |80.00     |2126. |17.0        |72   |US    |\n",
            "|Volkswagen Type 3           |23.0|4        |97.00       |54.00     |2254. |23.5        |72   |Europe|\n",
            "+----------------------------+----+---------+------------+----------+------+------------+-----+------+\n",
            "only showing top 20 rows\n",
            "\n"
          ]
        }
      ]
    },
    {
      "cell_type": "code",
      "source": [
        "df.orderBy('Cylinders', ascending=False).show(truncate=False)"
      ],
      "metadata": {
        "colab": {
          "base_uri": "https://localhost:8080/"
        },
        "id": "MilI0jgry597",
        "outputId": "d0699dc4-5187-49a6-f460-6ee67870e241"
      },
      "execution_count": 69,
      "outputs": [
        {
          "output_type": "stream",
          "name": "stdout",
          "text": [
            "+-------------------------+----+---------+------------+----------+------+------------+-----+------+\n",
            "|Car                      |MPG |Cylinders|Displacement|Horsepower|Weight|Acceleration|Model|Origin|\n",
            "+-------------------------+----+---------+------------+----------+------+------------+-----+------+\n",
            "|Plymouth 'Cuda 340       |14.0|8        |340.0       |160.0     |3609. |8.0         |70   |US    |\n",
            "|Pontiac Safari (sw)      |13.0|8        |400.0       |175.0     |5140. |12.0        |71   |US    |\n",
            "|Ford Mustang Boss 302    |0   |8        |302.0       |140.0     |3353. |8.0         |70   |US    |\n",
            "|Buick Skylark 320        |15.0|8        |350.0       |165.0     |3693. |11.5        |70   |US    |\n",
            "|Chevrolet Monte Carlo    |15.0|8        |400.0       |150.0     |3761. |9.5         |70   |US    |\n",
            "|AMC Rebel SST            |16.0|8        |304.0       |150.0     |3433. |12.0        |70   |US    |\n",
            "|Buick Estate Wagon (sw)  |14.0|8        |455.0       |225.0     |3086. |10.0        |70   |US    |\n",
            "|Ford Galaxie 500         |15.0|8        |429.0       |198.0     |4341. |10.0        |70   |US    |\n",
            "|Ford F250                |10.0|8        |360.0       |215.0     |4615. |14.0        |70   |US    |\n",
            "|Plymouth Fury iii        |14.0|8        |440.0       |215.0     |4312. |8.5         |70   |US    |\n",
            "|Chevy C20                |10.0|8        |307.0       |200.0     |4376. |15.0        |70   |US    |\n",
            "|AMC Ambassador DPL       |15.0|8        |390.0       |190.0     |3850. |8.5         |70   |US    |\n",
            "|Dodge D200               |11.0|8        |318.0       |210.0     |4382. |13.5        |70   |US    |\n",
            "|Ford Torino (sw)         |0   |8        |351.0       |153.0     |4034. |11.0        |70   |US    |\n",
            "|Hi 1200D                 |9.0 |8        |304.0       |193.0     |4732. |18.5        |70   |US    |\n",
            "|AMC Rebel SST (sw)       |0   |8        |360.0       |175.0     |3850. |11.0        |70   |US    |\n",
            "|Chevrolet Impala         |14.0|8        |350.0       |165.0     |4209. |12.0        |71   |US    |\n",
            "|Chevrolet Chevelle Malibu|18.0|8        |307.0       |130.0     |3504. |12.0        |70   |US    |\n",
            "|Pontiac Catalina Brougham|14.0|8        |400.0       |175.0     |4464. |11.5        |71   |US    |\n",
            "|Ford Torino              |17.0|8        |302.0       |140.0     |3449. |10.5        |70   |US    |\n",
            "+-------------------------+----+---------+------------+----------+------+------------+-----+------+\n",
            "only showing top 20 rows\n",
            "\n"
          ]
        }
      ]
    },
    {
      "cell_type": "code",
      "source": [
        "df.groupBy('Origin').count().orderBy('count', ascending=False).show()"
      ],
      "metadata": {
        "colab": {
          "base_uri": "https://localhost:8080/"
        },
        "id": "x69k7P9IzKSP",
        "outputId": "e309a00e-3513-4f94-957a-4ff245bc9308"
      },
      "execution_count": 71,
      "outputs": [
        {
          "output_type": "stream",
          "name": "stdout",
          "text": [
            "+------+-----+\n",
            "|Origin|count|\n",
            "+------+-----+\n",
            "|    US|  254|\n",
            "| Japan|   79|\n",
            "|Europe|   73|\n",
            "+------+-----+\n",
            "\n"
          ]
        }
      ]
    },
    {
      "cell_type": "markdown",
      "source": [
        "### **Graficar Datos**"
      ],
      "metadata": {
        "id": "Dg0_tFBgzrZZ"
      }
    },
    {
      "cell_type": "code",
      "source": [
        "import matplotlib.pyplot as plt\n",
        "import pandas as pd\n",
        "\n",
        "df_grouped = df.groupBy('Origin').count().orderBy('count', ascending=False)\n",
        "df_grouped.show()\n",
        "\n",
        "df_pandas = df_grouped.toPandas()"
      ],
      "metadata": {
        "colab": {
          "base_uri": "https://localhost:8080/"
        },
        "id": "LEzyYfXNzqHI",
        "outputId": "079ab24b-6a28-44cd-e1a5-49d06c9635fa"
      },
      "execution_count": 73,
      "outputs": [
        {
          "output_type": "stream",
          "name": "stdout",
          "text": [
            "+------+-----+\n",
            "|Origin|count|\n",
            "+------+-----+\n",
            "|    US|  254|\n",
            "| Japan|   79|\n",
            "|Europe|   73|\n",
            "+------+-----+\n",
            "\n"
          ]
        }
      ]
    },
    {
      "cell_type": "code",
      "source": [
        "plt.figure(figsize=(7, 5))\n",
        "plt.bar(df_pandas['Origin'], df_pandas['count'], color='blue')\n",
        "plt.xlabel('Origin')\n",
        "plt.ylabel('Count')\n",
        "plt.title('Cantidad de autos por origen')\n",
        "plt.tight_layout()\n",
        "plt.show()"
      ],
      "metadata": {
        "colab": {
          "base_uri": "https://localhost:8080/",
          "height": 507
        },
        "id": "T-7n8TTW0UHq",
        "outputId": "86fe10ae-0c8c-48de-d5fe-eaf7e413a196"
      },
      "execution_count": 76,
      "outputs": [
        {
          "output_type": "display_data",
          "data": {
            "text/plain": [
              "<Figure size 700x500 with 1 Axes>"
            ],
            "image/png": "[encoded data removed]"
          },
          "metadata": {}
        }
      ]
    },
    {
      "cell_type": "code",
      "source": [
        "import seaborn as sns\n",
        "\n",
        "plt.figure(figsize=(8, 5))\n",
        "sns.barplot(x='Origin', y='count', data=df_pandas, hue='Origin', palette='pastel', dodge=False, legend=False)\n",
        "plt.title('Cantidad de autos por origen')\n",
        "plt.xlabel('Origen')\n",
        "plt.ylabel('Cantidad')\n",
        "plt.tight_layout()\n",
        "plt.show()"
      ],
      "metadata": {
        "colab": {
          "base_uri": "https://localhost:8080/",
          "height": 507
        },
        "id": "yXbYviHV0d2s",
        "outputId": "4bb3c563-b311-4dae-9e89-4066bc16bc34"
      },
      "execution_count": 81,
      "outputs": [
        {
          "output_type": "display_data",
          "data": {
            "text/plain": [
              "<Figure size 800x500 with 1 Axes>"
            ],
            "image/png": "[encoded data removed]"
          },
          "metadata": {}
        }
      ]
    },
    {
      "cell_type": "markdown",
      "source": [
        "### **Guardar Datos**"
      ],
      "metadata": {
        "id": "NRi2BXny1IB7"
      }
    },
    {
      "cell_type": "code",
      "source": [
        "# Guardar datos\n",
        "df_pandas.to_csv('df_pandas.csv', index=False)"
      ],
      "metadata": {
        "id": "VfrgduaK1LZf"
      },
      "execution_count": 82,
      "outputs": []
    },
    {
      "cell_type": "code",
      "source": [],
      "metadata": {
        "id": "pu2TEXH71Pz7"
      },
      "execution_count": null,
      "outputs": []
    },
    {
      "cell_type": "markdown",
      "source": [],
      "metadata": {
        "id": "VDzsm4GR1H9q"
      }
    },
    {
      "cell_type": "markdown",
      "source": [],
      "metadata": {
        "id": "XMgk-0ap1HtC"
      }
    }
  ]
}